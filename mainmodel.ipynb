{
 "cells": [
  {
   "metadata": {
    "ExecuteTime": {
     "end_time": "2025-09-15T01:07:22.066025Z",
     "start_time": "2025-09-15T01:07:22.064107Z"
    }
   },
   "cell_type": "code",
   "source": [
    "import pandas as pd\n",
    "from sklearn.model_selection import train_test_split\n",
    "from sklearn.preprocessing import OneHotEncoder\n",
    "from sklearn.compose import ColumnTransformer\n",
    "from sklearn.ensemble import RandomForestClassifier\n",
    "from sklearn.pipeline import Pipeline\n",
    "from imblearn.over_sampling import SMOTE\n",
    "from imblearn.pipeline import Pipeline as ImbPipeline\n",
    "from sklearn.metrics import classification_report\n",
    "from sklearn.metrics import mean_squared_error\n",
    "import numpy as np"
   ],
   "id": "fbc121e30a2defb3",
   "outputs": [],
   "execution_count": 38
  },
  {
   "metadata": {
    "ExecuteTime": {
     "end_time": "2025-09-14T22:31:39.703056Z",
     "start_time": "2025-09-14T22:31:39.691122Z"
    }
   },
   "cell_type": "code",
   "source": [
    "classes = pd.read_csv(\"ClassData.csv\")\n",
    "sales = pd.read_csv(\"SalesData.csv\")\n",
    "cart = pd.read_csv(\"CartData.csv\")\n",
    "user = pd.read_csv(\"UserData.csv\")\n",
    "attendance = pd.read_csv('AttendanceData.csv')"
   ],
   "id": "7dca229d26993522",
   "outputs": [],
   "execution_count": 5
  },
  {
   "metadata": {
    "ExecuteTime": {
     "end_time": "2025-09-14T22:31:39.715014Z",
     "start_time": "2025-09-14T22:31:39.713040Z"
    }
   },
   "cell_type": "code",
   "source": [
    "classes_df = classes.copy()\n",
    "sales_df = sales.copy()\n",
    "attendance_df = attendance.copy()\n",
    "cart_df = cart.copy()\n",
    "user_df = user.copy()"
   ],
   "id": "37cff854d492e2fe",
   "outputs": [],
   "execution_count": 6
  },
  {
   "metadata": {
    "ExecuteTime": {
     "end_time": "2025-09-14T22:31:39.741534Z",
     "start_time": "2025-09-14T22:31:39.733607Z"
    }
   },
   "cell_type": "code",
   "source": [
    "classes_df['classstartdatetime'] = pd.to_datetime(classes_df['classstartdate'] + ' ' + classes_df['classstarttime'], format='%m/%d/%y %H:%M:%S', errors='coerce')\n",
    "\n",
    "sales_df['orderdatetime'] = pd.to_datetime(sales_df['orderdate'] + ' ' + sales_df['order time'], format='%m/%d/%y %H:%M:%S', errors='coerce')\n",
    "\n",
    "cart_df['cartadddatetime'] = pd.to_datetime(cart_df['shoppingcartadddate'] + ' ' + cart_df['shoppingcartaddtime'], format='%m/%d/%y %H:%M:%S', errors='coerce')\n",
    "\n",
    "# For the user's date of birth (DOB), a different format, possibly 'MM/DD/YY'\n",
    "user_df['userdob'] = pd.to_datetime(user_df['userdob'], format='%m/%d/%y', errors='coerce')"
   ],
   "id": "b02187817e9b9d53",
   "outputs": [],
   "execution_count": 7
  },
  {
   "metadata": {
    "ExecuteTime": {
     "end_time": "2025-09-15T00:47:07.550852Z",
     "start_time": "2025-09-15T00:47:07.533700Z"
    }
   },
   "cell_type": "code",
   "source": "classes_df",
   "id": "174b99939873a756",
   "outputs": [
    {
     "data": {
      "text/plain": [
       "     classid classstarttime classendtime classteacher  classcost  \\\n",
       "0       42.0       19:30:00     21:30:00       Robert       16.0   \n",
       "1       43.0       13:00:00     15:00:00        Peter       16.0   \n",
       "2       45.0       13:00:00     15:00:00        Peter       16.0   \n",
       "3       46.0       15:30:00     17:30:00       Robert       16.0   \n",
       "4       47.0       19:30:00     21:00:00       Robert       12.0   \n",
       "..       ...            ...          ...          ...        ...   \n",
       "121    187.0       13:00:00     14:15:00         Mary       10.0   \n",
       "122    188.0       19:30:00     21:00:00         Mary       12.0   \n",
       "123    189.0       19:30:00     21:00:00         Mary       12.0   \n",
       "124    190.0       13:00:00     14:15:00         Mary       10.0   \n",
       "125    191.0       15:30:00     17:30:00         Mary       16.0   \n",
       "\n",
       "    classstartdate       classtag  classstartdatetime  \n",
       "0          8/23/23          Dance 2023-08-23 19:30:00  \n",
       "1          8/26/23          Dance 2023-08-26 13:00:00  \n",
       "2          8/27/23          Dance 2023-08-27 13:00:00  \n",
       "3          8/27/23          Dance 2023-08-27 15:30:00  \n",
       "4          8/24/23        Pilates 2023-08-24 19:30:00  \n",
       "..             ...            ...                 ...  \n",
       "121        12/2/23  Yoga Beginner 2023-12-02 13:00:00  \n",
       "122        12/1/23        Pilates 2023-12-01 19:30:00  \n",
       "123        12/8/23        Pilates 2023-12-08 19:30:00  \n",
       "124       12/16/23  Yoga Beginner 2023-12-16 13:00:00  \n",
       "125        12/3/23          Dance 2023-12-03 15:30:00  \n",
       "\n",
       "[126 rows x 8 columns]"
      ],
      "text/html": [
       "<div>\n",
       "<style scoped>\n",
       "    .dataframe tbody tr th:only-of-type {\n",
       "        vertical-align: middle;\n",
       "    }\n",
       "\n",
       "    .dataframe tbody tr th {\n",
       "        vertical-align: top;\n",
       "    }\n",
       "\n",
       "    .dataframe thead th {\n",
       "        text-align: right;\n",
       "    }\n",
       "</style>\n",
       "<table border=\"1\" class=\"dataframe\">\n",
       "  <thead>\n",
       "    <tr style=\"text-align: right;\">\n",
       "      <th></th>\n",
       "      <th>classid</th>\n",
       "      <th>classstarttime</th>\n",
       "      <th>classendtime</th>\n",
       "      <th>classteacher</th>\n",
       "      <th>classcost</th>\n",
       "      <th>classstartdate</th>\n",
       "      <th>classtag</th>\n",
       "      <th>classstartdatetime</th>\n",
       "    </tr>\n",
       "  </thead>\n",
       "  <tbody>\n",
       "    <tr>\n",
       "      <th>0</th>\n",
       "      <td>42.0</td>\n",
       "      <td>19:30:00</td>\n",
       "      <td>21:30:00</td>\n",
       "      <td>Robert</td>\n",
       "      <td>16.0</td>\n",
       "      <td>8/23/23</td>\n",
       "      <td>Dance</td>\n",
       "      <td>2023-08-23 19:30:00</td>\n",
       "    </tr>\n",
       "    <tr>\n",
       "      <th>1</th>\n",
       "      <td>43.0</td>\n",
       "      <td>13:00:00</td>\n",
       "      <td>15:00:00</td>\n",
       "      <td>Peter</td>\n",
       "      <td>16.0</td>\n",
       "      <td>8/26/23</td>\n",
       "      <td>Dance</td>\n",
       "      <td>2023-08-26 13:00:00</td>\n",
       "    </tr>\n",
       "    <tr>\n",
       "      <th>2</th>\n",
       "      <td>45.0</td>\n",
       "      <td>13:00:00</td>\n",
       "      <td>15:00:00</td>\n",
       "      <td>Peter</td>\n",
       "      <td>16.0</td>\n",
       "      <td>8/27/23</td>\n",
       "      <td>Dance</td>\n",
       "      <td>2023-08-27 13:00:00</td>\n",
       "    </tr>\n",
       "    <tr>\n",
       "      <th>3</th>\n",
       "      <td>46.0</td>\n",
       "      <td>15:30:00</td>\n",
       "      <td>17:30:00</td>\n",
       "      <td>Robert</td>\n",
       "      <td>16.0</td>\n",
       "      <td>8/27/23</td>\n",
       "      <td>Dance</td>\n",
       "      <td>2023-08-27 15:30:00</td>\n",
       "    </tr>\n",
       "    <tr>\n",
       "      <th>4</th>\n",
       "      <td>47.0</td>\n",
       "      <td>19:30:00</td>\n",
       "      <td>21:00:00</td>\n",
       "      <td>Robert</td>\n",
       "      <td>12.0</td>\n",
       "      <td>8/24/23</td>\n",
       "      <td>Pilates</td>\n",
       "      <td>2023-08-24 19:30:00</td>\n",
       "    </tr>\n",
       "    <tr>\n",
       "      <th>...</th>\n",
       "      <td>...</td>\n",
       "      <td>...</td>\n",
       "      <td>...</td>\n",
       "      <td>...</td>\n",
       "      <td>...</td>\n",
       "      <td>...</td>\n",
       "      <td>...</td>\n",
       "      <td>...</td>\n",
       "    </tr>\n",
       "    <tr>\n",
       "      <th>121</th>\n",
       "      <td>187.0</td>\n",
       "      <td>13:00:00</td>\n",
       "      <td>14:15:00</td>\n",
       "      <td>Mary</td>\n",
       "      <td>10.0</td>\n",
       "      <td>12/2/23</td>\n",
       "      <td>Yoga Beginner</td>\n",
       "      <td>2023-12-02 13:00:00</td>\n",
       "    </tr>\n",
       "    <tr>\n",
       "      <th>122</th>\n",
       "      <td>188.0</td>\n",
       "      <td>19:30:00</td>\n",
       "      <td>21:00:00</td>\n",
       "      <td>Mary</td>\n",
       "      <td>12.0</td>\n",
       "      <td>12/1/23</td>\n",
       "      <td>Pilates</td>\n",
       "      <td>2023-12-01 19:30:00</td>\n",
       "    </tr>\n",
       "    <tr>\n",
       "      <th>123</th>\n",
       "      <td>189.0</td>\n",
       "      <td>19:30:00</td>\n",
       "      <td>21:00:00</td>\n",
       "      <td>Mary</td>\n",
       "      <td>12.0</td>\n",
       "      <td>12/8/23</td>\n",
       "      <td>Pilates</td>\n",
       "      <td>2023-12-08 19:30:00</td>\n",
       "    </tr>\n",
       "    <tr>\n",
       "      <th>124</th>\n",
       "      <td>190.0</td>\n",
       "      <td>13:00:00</td>\n",
       "      <td>14:15:00</td>\n",
       "      <td>Mary</td>\n",
       "      <td>10.0</td>\n",
       "      <td>12/16/23</td>\n",
       "      <td>Yoga Beginner</td>\n",
       "      <td>2023-12-16 13:00:00</td>\n",
       "    </tr>\n",
       "    <tr>\n",
       "      <th>125</th>\n",
       "      <td>191.0</td>\n",
       "      <td>15:30:00</td>\n",
       "      <td>17:30:00</td>\n",
       "      <td>Mary</td>\n",
       "      <td>16.0</td>\n",
       "      <td>12/3/23</td>\n",
       "      <td>Dance</td>\n",
       "      <td>2023-12-03 15:30:00</td>\n",
       "    </tr>\n",
       "  </tbody>\n",
       "</table>\n",
       "<p>126 rows × 8 columns</p>\n",
       "</div>"
      ]
     },
     "execution_count": 30,
     "metadata": {},
     "output_type": "execute_result"
    }
   ],
   "execution_count": 30
  },
  {
   "metadata": {
    "ExecuteTime": {
     "end_time": "2025-09-14T22:31:39.753548Z",
     "start_time": "2025-09-14T22:31:39.748016Z"
    }
   },
   "cell_type": "code",
   "source": [
    "# 2. Merge the dataframes\n",
    "merged_data = attendance_df.merge(classes_df, on='classid', how='left')\n",
    "merged_data = merged_data.merge(sales_df, on=['salesorderid', 'userid'], how='left')\n",
    "merged_data = merged_data.merge(user_df, on='userid', how='left')"
   ],
   "id": "1aaadaf4053dff33",
   "outputs": [],
   "execution_count": 8
  },
  {
   "metadata": {
    "ExecuteTime": {
     "end_time": "2025-09-15T01:28:50.862208Z",
     "start_time": "2025-09-15T01:28:50.842678Z"
    }
   },
   "cell_type": "code",
   "source": [
    "# 3. Aggregate cart data for a new feature: `cart_adds`\n",
    "cart_counts = cart_df.groupby('classid').size().reset_index(name='cart_adds')\n",
    "merged_data = merged_data.merge(cart_counts, on='classid', how='left')\n",
    "merged_data['cart_adds'] = merged_data['cart_adds'].fillna(0) # Fill missing values with 0\n",
    "print(cart_counts)"
   ],
   "id": "896f9eab1bdba97e",
   "outputs": [
    {
     "name": "stdout",
     "output_type": "stream",
     "text": [
      "     classid  cart_adds\n",
      "0         42          3\n",
      "1         43         15\n",
      "2         45          4\n",
      "3         46          8\n",
      "4         47          5\n",
      "..       ...        ...\n",
      "121      184          1\n",
      "122      185          1\n",
      "123      187          7\n",
      "124      188          1\n",
      "125      190          1\n",
      "\n",
      "[126 rows x 2 columns]\n"
     ]
    }
   ],
   "execution_count": 43
  },
  {
   "metadata": {
    "ExecuteTime": {
     "end_time": "2025-09-14T22:31:39.769889Z",
     "start_time": "2025-09-14T22:31:39.766731Z"
    }
   },
   "cell_type": "code",
   "source": [
    "# 4. Create additional features from merged data\n",
    "merged_data['time_until_class'] = (merged_data['classstartdatetime'] - merged_data['orderdatetime']).dt.total_seconds() / 3600 / 24 # in days\n",
    "merged_data['user_age'] = (pd.Timestamp.now() - merged_data['userdob']).dt.total_seconds() / (365.25 * 24 * 3600) # in years"
   ],
   "id": "defde9a12275c995",
   "outputs": [],
   "execution_count": 10
  },
  {
   "metadata": {
    "ExecuteTime": {
     "end_time": "2025-09-14T22:31:39.791658Z",
     "start_time": "2025-09-14T22:31:39.775980Z"
    }
   },
   "cell_type": "code",
   "source": [
    "# 5. Aggregate to the class level to get our target variable\n",
    "class_demand = merged_data.groupby('classid').agg(\n",
    "    total_enrollments=('enrollmentid', 'size'),\n",
    "    avg_price=('totalamountpaid', 'mean'),\n",
    "    base_cost=('classcost', 'first'),\n",
    "    time_of_day=('classstarttime', 'first'),\n",
    "    day_of_week=('classstartdate', lambda x: pd.to_datetime(x.iloc[0]).dayofweek),\n",
    "    teacher=('classteacher', 'first'),\n",
    "    cart_interest=('cart_adds', 'first'),\n",
    "    # Note: For user features, we can't aggregate directly. We'd have to use a user-centric model or choose a representative value (e.g., average age of enrollees)\n",
    "    # For now, i'd keep the user features out of this aggregated model.\n",
    ").reset_index()"
   ],
   "id": "75a173943d76dea5",
   "outputs": [],
   "execution_count": 11
  },
  {
   "metadata": {
    "ExecuteTime": {
     "end_time": "2025-09-15T00:39:48.853097Z",
     "start_time": "2025-09-15T00:39:48.806190Z"
    }
   },
   "cell_type": "code",
   "source": [
    "threshold = 2\n",
    "class_demand['demand_level'] = class_demand['total_enrollments'].apply(lambda x: 'high' if x > threshold else 'normal')"
   ],
   "id": "fca5cba5fdf126ef",
   "outputs": [],
   "execution_count": 23
  },
  {
   "metadata": {
    "ExecuteTime": {
     "end_time": "2025-09-15T00:39:52.257062Z",
     "start_time": "2025-09-15T00:39:52.247511Z"
    }
   },
   "cell_type": "code",
   "source": "class_demand.isna().sum()",
   "id": "7e0f35f7bc124b26",
   "outputs": [
    {
     "data": {
      "text/plain": [
       "classid              0\n",
       "total_enrollments    0\n",
       "avg_price            0\n",
       "base_cost            0\n",
       "time_of_day          0\n",
       "day_of_week          0\n",
       "teacher              0\n",
       "cart_interest        0\n",
       "demand_level         0\n",
       "dtype: int64"
      ]
     },
     "execution_count": 24,
     "metadata": {},
     "output_type": "execute_result"
    }
   ],
   "execution_count": 24
  },
  {
   "metadata": {
    "ExecuteTime": {
     "end_time": "2025-09-15T00:39:55.379040Z",
     "start_time": "2025-09-15T00:39:55.369593Z"
    }
   },
   "cell_type": "code",
   "source": [
    "# 1. Handle the numerical column `base_cost` by imputing with the median\n",
    "median_base_cost = class_demand['base_cost'].median()\n",
    "class_demand['base_cost'].fillna(median_base_cost, inplace=True)\n",
    "\n",
    "# 2. Handle the categorical columns `time_of_day`, `day_of_week`, and `teacher` by creating a new category for the missing values.\n",
    "class_demand['time_of_day'].fillna('Unknown Time', inplace=True)\n",
    "class_demand['day_of_week'].fillna('Unknown Day', inplace=True)\n",
    "class_demand['teacher'].fillna('Unknown Teacher', inplace=True)\n",
    "\n",
    "# 3. Double-check for any remaining missing values\n",
    "print(class_demand.isnull().sum())"
   ],
   "id": "3885f60d7e32610d",
   "outputs": [
    {
     "name": "stdout",
     "output_type": "stream",
     "text": [
      "classid              0\n",
      "total_enrollments    0\n",
      "avg_price            0\n",
      "base_cost            0\n",
      "time_of_day          0\n",
      "day_of_week          0\n",
      "teacher              0\n",
      "cart_interest        0\n",
      "demand_level         0\n",
      "dtype: int64\n"
     ]
    },
    {
     "name": "stderr",
     "output_type": "stream",
     "text": [
      "/var/folders/01/4xc8q_m12ngb83yl1h4c6hym0000gn/T/ipykernel_84144/546780942.py:3: FutureWarning: A value is trying to be set on a copy of a DataFrame or Series through chained assignment using an inplace method.\n",
      "The behavior will change in pandas 3.0. This inplace method will never work because the intermediate object on which we are setting values always behaves as a copy.\n",
      "\n",
      "For example, when doing 'df[col].method(value, inplace=True)', try using 'df.method({col: value}, inplace=True)' or df[col] = df[col].method(value) instead, to perform the operation inplace on the original object.\n",
      "\n",
      "\n",
      "  class_demand['base_cost'].fillna(median_base_cost, inplace=True)\n",
      "/var/folders/01/4xc8q_m12ngb83yl1h4c6hym0000gn/T/ipykernel_84144/546780942.py:6: FutureWarning: A value is trying to be set on a copy of a DataFrame or Series through chained assignment using an inplace method.\n",
      "The behavior will change in pandas 3.0. This inplace method will never work because the intermediate object on which we are setting values always behaves as a copy.\n",
      "\n",
      "For example, when doing 'df[col].method(value, inplace=True)', try using 'df.method({col: value}, inplace=True)' or df[col] = df[col].method(value) instead, to perform the operation inplace on the original object.\n",
      "\n",
      "\n",
      "  class_demand['time_of_day'].fillna('Unknown Time', inplace=True)\n",
      "/var/folders/01/4xc8q_m12ngb83yl1h4c6hym0000gn/T/ipykernel_84144/546780942.py:7: FutureWarning: A value is trying to be set on a copy of a DataFrame or Series through chained assignment using an inplace method.\n",
      "The behavior will change in pandas 3.0. This inplace method will never work because the intermediate object on which we are setting values always behaves as a copy.\n",
      "\n",
      "For example, when doing 'df[col].method(value, inplace=True)', try using 'df.method({col: value}, inplace=True)' or df[col] = df[col].method(value) instead, to perform the operation inplace on the original object.\n",
      "\n",
      "\n",
      "  class_demand['day_of_week'].fillna('Unknown Day', inplace=True)\n",
      "/var/folders/01/4xc8q_m12ngb83yl1h4c6hym0000gn/T/ipykernel_84144/546780942.py:8: FutureWarning: A value is trying to be set on a copy of a DataFrame or Series through chained assignment using an inplace method.\n",
      "The behavior will change in pandas 3.0. This inplace method will never work because the intermediate object on which we are setting values always behaves as a copy.\n",
      "\n",
      "For example, when doing 'df[col].method(value, inplace=True)', try using 'df.method({col: value}, inplace=True)' or df[col] = df[col].method(value) instead, to perform the operation inplace on the original object.\n",
      "\n",
      "\n",
      "  class_demand['teacher'].fillna('Unknown Teacher', inplace=True)\n"
     ]
    }
   ],
   "execution_count": 25
  },
  {
   "metadata": {
    "ExecuteTime": {
     "end_time": "2025-09-15T00:39:58.870802Z",
     "start_time": "2025-09-15T00:39:58.857362Z"
    }
   },
   "cell_type": "code",
   "source": "class_demand.info()",
   "id": "a96e440183d2322d",
   "outputs": [
    {
     "name": "stdout",
     "output_type": "stream",
     "text": [
      "<class 'pandas.core.frame.DataFrame'>\n",
      "RangeIndex: 115 entries, 0 to 114\n",
      "Data columns (total 9 columns):\n",
      " #   Column             Non-Null Count  Dtype  \n",
      "---  ------             --------------  -----  \n",
      " 0   classid            115 non-null    int64  \n",
      " 1   total_enrollments  115 non-null    int64  \n",
      " 2   avg_price          115 non-null    float64\n",
      " 3   base_cost          115 non-null    float64\n",
      " 4   time_of_day        115 non-null    object \n",
      " 5   day_of_week        115 non-null    object \n",
      " 6   teacher            115 non-null    object \n",
      " 7   cart_interest      115 non-null    int64  \n",
      " 8   demand_level       115 non-null    object \n",
      "dtypes: float64(2), int64(3), object(4)\n",
      "memory usage: 8.2+ KB\n"
     ]
    }
   ],
   "execution_count": 26
  },
  {
   "metadata": {},
   "cell_type": "code",
   "source": [
    "# Identify features and target\n",
    "X = class_demand.drop('demand_level', axis=1).copy()\n",
    "y = class_demand['demand_level'].copy()\n",
    "\n",
    "# Ensure all categorical columns are of string type\n",
    "for col in ['time_of_day', 'day_of_week', 'teacher']:\n",
    "    X[col] = X[col].astype(str)\n",
    "\n",
    "# Define feature types based on column names\n",
    "categorical_features = ['time_of_day', 'day_of_week', 'teacher']\n",
    "numerical_features = ['base_cost', 'cart_interest']\n",
    "\n",
    "# Create the preprocessor using the defined lists of columns\n",
    "preprocessor = ColumnTransformer(\n",
    "    transformers=[\n",
    "        ('num', 'passthrough', numerical_features),\n",
    "        ('cat', OneHotEncoder(handle_unknown='ignore'), categorical_features)\n",
    "    ],\n",
    "    remainder='drop'\n",
    ")\n",
    "\n",
    "# Create the imbalanced-learn pipeline\n",
    "# The order is: preprocessor -> smote -> classifier\n",
    "model = ImbPipeline(steps=[\n",
    "    ('preprocessor', preprocessor),\n",
    "    ('smote', SMOTE(random_state=42, k_neighbors=3)),\n",
    "    ('classifier', RandomForestClassifier(n_estimators=100, random_state=42, class_weight='balanced'))\n",
    "])\n",
    "\n",
    "# Split the data\n",
    "X_train, X_test, y_train, y_test = train_test_split(X, y, test_size=0.2, random_state=42, stratify=y)\n",
    "\n",
    "# Fit the pipeline on the training data\n",
    "model.fit(X_train, y_train)\n",
    "\n",
    "# Make predictions and evaluate the model\n",
    "y_pred = model.predict(X_test)\n",
    "print(classification_report(y_test, y_pred))"
   ],
   "id": "56f0342d383f4361",
   "execution_count": 33,
   "outputs": [
    {
     "name": "stdout",
     "output_type": "stream",
     "text": [
      "              precision    recall  f1-score   support\n",
      "\n",
      "        high       0.94      0.89      0.91        18\n",
      "      normal       0.67      0.80      0.73         5\n",
      "\n",
      "    accuracy                           0.87        23\n",
      "   macro avg       0.80      0.84      0.82        23\n",
      "weighted avg       0.88      0.87      0.87        23\n",
      "\n"
     ]
    }
   ]
  },
  {
   "metadata": {
    "ExecuteTime": {
     "end_time": "2025-09-15T00:51:59.318914Z",
     "start_time": "2025-09-15T00:51:59.292677Z"
    }
   },
   "cell_type": "code",
   "source": [
    "def set_dynamic_price(model, class_data, base_price):\n",
    "    \"\"\"\n",
    "    Predicts demand and sets the new price.\n",
    "    \"\"\"\n",
    "    # Create a DataFrame from new class data for prediction\n",
    "    new_class_data_df = pd.DataFrame([class_data])\n",
    "\n",
    "    # Predict the demand using the trained pipeline\n",
    "    # The pipeline automatically handles preprocessing.\n",
    "    predicted_demand = model.predict(new_class_data_df)[0]\n",
    "\n",
    "    # Apply pricing rules\n",
    "    if predicted_demand == 'high':\n",
    "        new_price = base_price * 1.15  # 15% price increase\n",
    "        print(f\"High demand predicted. Price increased by 15% from ${base_price} to ${new_price:.2f}.\")\n",
    "    elif predicted_demand == 'normal':\n",
    "        new_price = base_price * 0.90 # 10% price decrease\n",
    "        print(f\"Normal demand predicted. Price decreased by 10% from ${base_price} to ${new_price:.2f}.\")\n",
    "    else:\n",
    "        new_price = base_price\n",
    "        print(f\"Unknown demand predicted. Price remains at ${base_price:.2f}.\")\n",
    "\n",
    "    return new_price\n",
    "\n",
    "# Example of a new class\n",
    "new_class_features = {\n",
    "    'base_cost': 65.0,\n",
    "    'cart_interest': 25,\n",
    "    'time_of_day': '17:00:00',\n",
    "    'day_of_week': 'Fri',\n",
    "    'teacher': 'C'\n",
    "}\n",
    "\n",
    "# Get the dynamic price recommendation\n",
    "dynamic_price = set_dynamic_price(model, new_class_features, new_class_features['base_cost'])\n",
    "print(f\"The recommended price for the new class is ${dynamic_price:.2f}.\")"
   ],
   "id": "a3192b29ca404e6f",
   "outputs": [
    {
     "name": "stdout",
     "output_type": "stream",
     "text": [
      "High demand predicted. Price increased by 15% from $65.0 to $74.75.\n",
      "The recommended price for the new class is $74.75.\n"
     ]
    }
   ],
   "execution_count": 31
  },
  {
   "metadata": {
    "ExecuteTime": {
     "end_time": "2025-09-15T01:07:27.365580Z",
     "start_time": "2025-09-15T01:07:27.305098Z"
    }
   },
   "cell_type": "code",
   "source": [
    "# Identify features and target\n",
    "X = class_demand.drop(columns=['demand_level','total_enrollments'], axis=1).copy()\n",
    "y = class_demand['total_enrollments'].copy()\n",
    "\n",
    "# Ensure all categorical columns are of string type\n",
    "for col in ['time_of_day', 'day_of_week', 'teacher']:\n",
    "    X[col] = X[col].astype(str)\n",
    "\n",
    "# Define feature types based on column names\n",
    "categorical_features = ['time_of_day', 'day_of_week', 'teacher']\n",
    "numerical_features = ['base_cost', 'cart_interest']\n",
    "\n",
    "# Create the preprocessor using the defined lists of columns\n",
    "preprocessor = ColumnTransformer(\n",
    "    transformers=[\n",
    "        ('num', 'passthrough', numerical_features),\n",
    "        ('cat', OneHotEncoder(handle_unknown='ignore'), categorical_features)\n",
    "    ],\n",
    "    remainder='drop'\n",
    ")\n",
    "# Create and train a regression model\n",
    "regression_model = Pipeline(steps=[\n",
    "    ('preprocessor', preprocessor),\n",
    "    ('regressor', RandomForestRegressor(n_estimators=100, random_state=42))\n",
    "])\n",
    "\n",
    "X_train, X_test, y_train, y_test = train_test_split(X, y, test_size=0.2, random_state=42)\n",
    "regression_model.fit(X_train, y_train)\n",
    "\n",
    "# Evaluate the model\n",
    "y_pred = regression_model.predict(X_test)\n",
    "mse = mean_squared_error(y_test, y_pred) # No 'squared' parameter\n",
    "rmse = np.sqrt(mse)\n",
    "print(f\"Root Mean Squared Error (RMSE): {rmse:.2f}\")"
   ],
   "id": "7ea4eea71508a8b9",
   "outputs": [
    {
     "name": "stdout",
     "output_type": "stream",
     "text": [
      "Root Mean Squared Error (RMSE): 1.86\n"
     ]
    }
   ],
   "execution_count": 39
  },
  {
   "metadata": {
    "ExecuteTime": {
     "end_time": "2025-09-15T01:08:09.477604Z",
     "start_time": "2025-09-15T01:08:09.415794Z"
    }
   },
   "cell_type": "code",
   "source": [
    "# Assume a new class with the following features\n",
    "new_class_data = {\n",
    "    'time_of_day': '17:00:00',\n",
    "    'day_of_week': '4', # Friday\n",
    "    'teacher': 'Teacher B',\n",
    "    'cart_interest': 25\n",
    "}\n",
    "\n",
    "# Define a range of possible prices to test\n",
    "price_range = range(40, 101, 5)\n",
    "\n",
    "# Simulate revenue for each price point\n",
    "simulated_revenue = []\n",
    "for price in price_range:\n",
    "    # Create a test row with the new price\n",
    "    test_data = new_class_data.copy()\n",
    "    test_data['base_cost'] = price\n",
    "    test_data_df = pd.DataFrame([test_data])\n",
    "\n",
    "    # Predict the number of enrollments for this price\n",
    "    predicted_enrollments = regression_model.predict(test_data_df)[0]\n",
    "\n",
    "    # Calculate the simulated revenue\n",
    "    revenue = predicted_enrollments * price\n",
    "    simulated_revenue.append({'price': price, 'predicted_enrollments': predicted_enrollments, 'revenue': revenue})\n",
    "\n",
    "# Convert to a DataFrame for easy analysis\n",
    "revenue_df = pd.DataFrame(simulated_revenue)\n",
    "\n",
    "# Find the price that maximizes revenue\n",
    "optimal_price_row = revenue_df.loc[revenue_df['revenue'].idxmax()]\n",
    "\n",
    "print(revenue_df)\n",
    "print(\"\\n--- Optimal Price Found ---\")\n",
    "print(f\"Optimal Price: ${optimal_price_row['price']:.2f}\")\n",
    "print(f\"Predicted Enrollments at this Price: {optimal_price_row['predicted_enrollments']:.2f}\")\n",
    "print(f\"Maximized Revenue: ${optimal_price_row['revenue']:.2f}\")"
   ],
   "id": "9958b7da29d79167",
   "outputs": [
    {
     "name": "stdout",
     "output_type": "stream",
     "text": [
      "    price  predicted_enrollments  revenue\n",
      "0      40                  15.71   628.40\n",
      "1      45                  15.71   706.95\n",
      "2      50                  15.71   785.50\n",
      "3      55                  15.71   864.05\n",
      "4      60                  15.71   942.60\n",
      "5      65                  15.71  1021.15\n",
      "6      70                  15.71  1099.70\n",
      "7      75                  15.71  1178.25\n",
      "8      80                  15.71  1256.80\n",
      "9      85                  15.71  1335.35\n",
      "10     90                  15.71  1413.90\n",
      "11     95                  15.71  1492.45\n",
      "12    100                  15.71  1571.00\n",
      "\n",
      "--- Optimal Price Found ---\n",
      "Optimal Price: $100.00\n",
      "Predicted Enrollments at this Price: 15.71\n",
      "Maximized Revenue: $1571.00\n"
     ]
    }
   ],
   "execution_count": 40
  },
  {
   "metadata": {
    "ExecuteTime": {
     "end_time": "2025-09-15T01:10:22.389042Z",
     "start_time": "2025-09-15T01:10:22.366430Z"
    }
   },
   "cell_type": "code",
   "source": [
    "# Assuming 'class_demand', 'preprocessor', and 'regression_model' are already defined.\n",
    "\n",
    "# Create a copy for simulation\n",
    "simulation_data = class_demand.copy()\n",
    "\n",
    "# Predict enrollments for each class using its original base_cost\n",
    "# The 'regression_model' takes the DataFrame and predicts the 'total_enrollments'\n",
    "simulation_data['predicted_enrollments'] = regression_model.predict(simulation_data)\n",
    "\n",
    "# Calculate the simulated revenue for each class\n",
    "simulation_data['simulated_revenue'] = simulation_data['predicted_enrollments'] * simulation_data['base_cost']\n",
    "\n",
    "# Compare the total simulated revenue to the total original revenue\n",
    "total_original_revenue = (simulation_data['total_enrollments'] * simulation_data['base_cost']).sum()\n",
    "total_simulated_revenue = simulation_data['simulated_revenue'].sum()\n",
    "\n",
    "print(f\"Total Original Revenue: ${total_original_revenue:.2f}\")\n",
    "print(f\"Total Simulated Revenue: ${total_simulated_revenue:.2f}\")\n",
    "print(f\"Difference: ${total_simulated_revenue - total_original_revenue:.2f}\")\n",
    "\n",
    "# Compare the predicted enrollments to the actual ones\n",
    "print(\"\\nPredicted vs. Actual Enrollments:\")\n",
    "print(simulation_data[['classid', 'total_enrollments', 'predicted_enrollments']])"
   ],
   "id": "3712a075b6252ae9",
   "outputs": [
    {
     "name": "stdout",
     "output_type": "stream",
     "text": [
      "Total Original Revenue: $11151.00\n",
      "Total Simulated Revenue: $11259.39\n",
      "Difference: $108.39\n",
      "\n",
      "Predicted vs. Actual Enrollments:\n",
      "     classid  total_enrollments  predicted_enrollments\n",
      "0         42                  1               1.798000\n",
      "1         43                 11               8.672000\n",
      "2         45                  3               2.000000\n",
      "3         46                  4               4.063000\n",
      "4         47                  3               3.364667\n",
      "..       ...                ...                    ...\n",
      "110      182                  1               1.100000\n",
      "111      184                  1               1.030000\n",
      "112      185                  1               1.100000\n",
      "113      187                  5               4.062333\n",
      "114      190                  1               1.030000\n",
      "\n",
      "[115 rows x 3 columns]\n"
     ]
    }
   ],
   "execution_count": 41
  }
 ],
 "metadata": {
  "kernelspec": {
   "display_name": "Python 3",
   "language": "python",
   "name": "python3"
  },
  "language_info": {
   "codemirror_mode": {
    "name": "ipython",
    "version": 2
   },
   "file_extension": ".py",
   "mimetype": "text/x-python",
   "name": "python",
   "nbconvert_exporter": "python",
   "pygments_lexer": "ipython2",
   "version": "2.7.6"
  }
 },
 "nbformat": 4,
 "nbformat_minor": 5
}
